{
 "cells": [
  {
   "cell_type": "code",
   "execution_count": 13,
   "metadata": {},
   "outputs": [],
   "source": [
    "from tensorflow.keras.models import load_model\n",
    "from tensorflow.keras.preprocessing.text import Tokenizer\n",
    "from tensorflow.keras.preprocessing.sequence import pad_sequences"
   ]
  },
  {
   "cell_type": "code",
   "execution_count": 14,
   "metadata": {},
   "outputs": [],
   "source": [
    "# Load the saved model\n",
    "loaded_model = load_model('sentiment_model.h5')"
   ]
  },
  {
   "cell_type": "code",
   "execution_count": 16,
   "metadata": {},
   "outputs": [
    {
     "name": "stdout",
     "output_type": "stream",
     "text": [
      "1/1 [==============================] - 0s 37ms/step\n",
      "1\n"
     ]
    },
    {
     "data": {
      "text/plain": [
       "'if predicted_class == 0:\\n    print(\"Negative Sentiment\")\\nelif predicted_class == 1:\\n    print(\"Positive Sentiment\")\\nelif predicted_class == 2:\\n    print(\"Neutral Sentiment\")\\nelse:\\n    print(\"Invalid class prediction\")'"
      ]
     },
     "execution_count": 16,
     "metadata": {},
     "output_type": "execute_result"
    }
   ],
   "source": [
    "new_text_data = \"The product was a complete disappointment. It didn't live up to the advertised features, and the quality was subpar. I regretted making the purchase and would not recommend it to anyone.\"\n",
    "tokenizer = Tokenizer()\n",
    "new_text_sequences = tokenizer.texts_to_sequences([new_text_data])\n",
    "new_text_sequences = pad_sequences(new_text_sequences, maxlen=36)\n",
    "\n",
    "# Make predictions\n",
    "predictions = loaded_model.predict(new_text_sequences)\n",
    "\n",
    "# Assuming a classification task with three classes (adjust accordingly)\n",
    "predicted_class = predictions.argmax(axis=-1)[0]\n",
    "\n",
    "print(predicted_class)\n",
    "\n",
    "\"\"\"if predicted_class == 0:\n",
    "    print(\"Negative Sentiment\")\n",
    "elif predicted_class == 1:\n",
    "    print(\"Positive Sentiment\")\n",
    "elif predicted_class == 2:\n",
    "    print(\"Neutral Sentiment\")\n",
    "else:\n",
    "    print(\"Invalid class prediction\")\"\"\""
   ]
  },
  {
   "cell_type": "code",
   "execution_count": null,
   "metadata": {},
   "outputs": [],
   "source": []
  },
  {
   "cell_type": "code",
   "execution_count": null,
   "metadata": {},
   "outputs": [],
   "source": []
  }
 ],
 "metadata": {
  "kernelspec": {
   "display_name": ".venv",
   "language": "python",
   "name": "python3"
  },
  "language_info": {
   "codemirror_mode": {
    "name": "ipython",
    "version": 3
   },
   "file_extension": ".py",
   "mimetype": "text/x-python",
   "name": "python",
   "nbconvert_exporter": "python",
   "pygments_lexer": "ipython3",
   "version": "3.10.11"
  }
 },
 "nbformat": 4,
 "nbformat_minor": 2
}
