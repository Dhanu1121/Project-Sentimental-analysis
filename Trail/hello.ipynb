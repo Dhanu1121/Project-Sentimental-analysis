{
 "cells": [
  {
   "cell_type": "code",
   "execution_count": 1,
   "metadata": {},
   "outputs": [
    {
     "name": "stdout",
     "output_type": "stream",
     "text": [
      "WARNING:tensorflow:From d:\\Final Year Project\\Project\\.venv\\lib\\site-packages\\keras\\src\\losses.py:2976: The name tf.losses.sparse_softmax_cross_entropy is deprecated. Please use tf.compat.v1.losses.sparse_softmax_cross_entropy instead.\n",
      "\n",
      "WARNING:tensorflow:From d:\\Final Year Project\\Project\\.venv\\lib\\site-packages\\keras\\src\\backend.py:1398: The name tf.executing_eagerly_outside_functions is deprecated. Please use tf.compat.v1.executing_eagerly_outside_functions instead.\n",
      "\n"
     ]
    }
   ],
   "source": [
    "from tensorflow.keras.models import load_model\n",
    "from tensorflow.keras.preprocessing.text import Tokenizer\n",
    "from tensorflow.keras.preprocessing.sequence import pad_sequences\n",
    "\n",
    "# Load the saved model\n",
    "loaded_model = load_model('sentiment_model.h5')"
   ]
  },
  {
   "cell_type": "code",
   "execution_count": null,
   "metadata": {},
   "outputs": [],
   "source": [
    "new_text_data = \"Today is an average day. Nothing particularly exciting or noteworthy happened, but at least it wasn't a bad day either. #neutral #day\"\n",
    "\n",
    "tokenizer = Tokenizer()\n",
    "new_text_sequences = tokenizer.texts_to_sequences([new_text_data])\n",
    "new_text_sequences = pad_sequences(new_text_sequences, maxlen=maxlen)\n",
    "\n",
    "# Make predictions\n",
    "predictions = loaded_model.predict(new_text_sequences)\n",
    "\n",
    "# Assuming a classification task with three classes (adjust accordingly)\n",
    "predicted_class = predictions.argmax(axis=-1)[0]\n",
    "\n",
    "print(predicted_class)"
   ]
  }
 ],
 "metadata": {
  "kernelspec": {
   "display_name": ".venv",
   "language": "python",
   "name": "python3"
  },
  "language_info": {
   "codemirror_mode": {
    "name": "ipython",
    "version": 3
   },
   "file_extension": ".py",
   "mimetype": "text/x-python",
   "name": "python",
   "nbconvert_exporter": "python",
   "pygments_lexer": "ipython3",
   "version": "3.10.11"
  }
 },
 "nbformat": 4,
 "nbformat_minor": 2
}
